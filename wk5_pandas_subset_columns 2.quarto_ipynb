{
  "cells": [
    {
      "cell_type": "markdown",
      "metadata": {},
      "source": [
        "# Subsetting Columns \n",
        "\n",
        "\n",
        "## Import\n"
      ],
      "id": "4e5330db"
    },
    {
      "cell_type": "code",
      "metadata": {},
      "source": [
        "inport pandas as pd"
      ],
      "id": "6b3f4b2f",
      "execution_count": null,
      "outputs": []
    }
  ],
  "metadata": {
    "kernelspec": {
      "display_name": "Python 3",
      "language": "python",
      "name": "python3"
    }
  },
  "nbformat": 4,
  "nbformat_minor": 5
}