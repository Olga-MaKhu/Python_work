{
 "cells": [
  {
   "cell_type": "markdown",
   "metadata": {},
   "source": [
    "Connected to .venv (Python 3.12.0)"
   ]
  },
  {
   "cell_type": "code",
   "execution_count": null,
   "id": "8029f515-ec7d-4e15-bab2-1c279bf1ccbc",
   "metadata": {},
   "outputs": [
    {
     "ename": "NameError",
     "evalue": "name 'movies' is not defined",
     "output_type": "error",
     "traceback": [
      "\u001b[0;31m---------------------------------------------------------------------------\u001b[0m",
      "\u001b[0;31mNameError\u001b[0m                                 Traceback (most recent call last)",
      "File \u001b[1;32m/Users/olgamushakarara/Desktop/Week_4/2.graph_course_python/wk6_3_conditional_transformation.qmd:1\u001b[0m\n\u001b[0;32m----> 1\u001b[0m movies\u001b[39m.\u001b[39mlist()\n",
      "\u001b[0;31mNameError\u001b[0m: name 'movies' is not defined"
     ]
    }
   ],
   "source": [
    "movies.list()"
   ]
  },
  {
   "cell_type": "code",
   "execution_count": null,
   "id": "e220d24c-cf6d-44ff-b44f-309ab20947d7",
   "metadata": {},
   "outputs": [
    {
     "ename": "NameError",
     "evalue": "name 'movies' is not defined",
     "output_type": "error",
     "traceback": [
      "\u001b[0;31m---------------------------------------------------------------------------\u001b[0m",
      "\u001b[0;31mNameError\u001b[0m                                 Traceback (most recent call last)",
      "File \u001b[1;32m/Users/olgamushakarara/Desktop/Week_4/2.graph_course_python/wk6_3_conditional_transformation.qmd:1\u001b[0m\n\u001b[0;32m----> 1\u001b[0m movies\n",
      "\u001b[0;31mNameError\u001b[0m: name 'movies' is not defined"
     ]
    }
   ],
   "source": [
    "movies"
   ]
  },
  {
   "cell_type": "code",
   "execution_count": null,
   "id": "eb3f51e8-1a22-411e-97e9-b208af594f49",
   "metadata": {},
   "outputs": [],
   "source": [
    "import pandas as pd\n",
    "import numpy as np\n",
    "import vega_datasets as vd\n",
    "import plotly.express as px"
   ]
  },
  {
   "cell_type": "code",
   "execution_count": null,
   "id": "e160253e-2b99-4d20-9ec0-5fdde6d14109",
   "metadata": {},
   "outputs": [
    {
     "data": {
      "text/plain": [
       "Creative_Type\n",
       "Contemporary Fiction       1453\n",
       "None                        446\n",
       "Historical Fiction          350\n",
       "Fantasy                     265\n",
       "Science Fiction             243\n",
       "Dramatization               204\n",
       "Kids Fiction                141\n",
       "Factual                      49\n",
       "Super Hero                   49\n",
       "Multiple Creative Types       1\n",
       "Name: count, dtype: int64"
      ]
     },
     "execution_count": 4,
     "metadata": {},
     "output_type": "execute_result"
    }
   ],
   "source": [
    "movies = vd.data.movies()\n",
    "movies[\"Creative_Type\"].value_counts(dropna=False)"
   ]
  },
  {
   "cell_type": "code",
   "execution_count": null,
   "id": "01e11170-8d23-4e99-9ea6-8cf9eb654ba7",
   "metadata": {},
   "outputs": [
    {
     "data": {
      "text/html": [
       "<div>\n",
       "<style scoped>\n",
       "    .dataframe tbody tr th:only-of-type {\n",
       "        vertical-align: middle;\n",
       "    }\n",
       "\n",
       "    .dataframe tbody tr th {\n",
       "        vertical-align: top;\n",
       "    }\n",
       "\n",
       "    .dataframe thead th {\n",
       "        text-align: right;\n",
       "    }\n",
       "</style>\n",
       "<table border=\"1\" class=\"dataframe\">\n",
       "  <thead>\n",
       "    <tr style=\"text-align: right;\">\n",
       "      <th></th>\n",
       "      <th>Title</th>\n",
       "      <th>US_Gross</th>\n",
       "      <th>Worldwide_Gross</th>\n",
       "      <th>US_DVD_Sales</th>\n",
       "      <th>Production_Budget</th>\n",
       "      <th>Release_Date</th>\n",
       "      <th>MPAA_Rating</th>\n",
       "      <th>Running_Time_min</th>\n",
       "      <th>Distributor</th>\n",
       "      <th>Source</th>\n",
       "      <th>Major_Genre</th>\n",
       "      <th>Creative_Type</th>\n",
       "      <th>Director</th>\n",
       "      <th>Rotten_Tomatoes_Rating</th>\n",
       "      <th>IMDB_Rating</th>\n",
       "      <th>IMDB_Votes</th>\n",
       "    </tr>\n",
       "  </thead>\n",
       "  <tbody>\n",
       "    <tr>\n",
       "      <th>0</th>\n",
       "      <td>The Land Girls</td>\n",
       "      <td>146083.0</td>\n",
       "      <td>146083.0</td>\n",
       "      <td>NaN</td>\n",
       "      <td>8000000.0</td>\n",
       "      <td>Jun 12 1998</td>\n",
       "      <td>R</td>\n",
       "      <td>NaN</td>\n",
       "      <td>Gramercy</td>\n",
       "      <td>None</td>\n",
       "      <td>None</td>\n",
       "      <td>None</td>\n",
       "      <td>None</td>\n",
       "      <td>NaN</td>\n",
       "      <td>6.1</td>\n",
       "      <td>1071.0</td>\n",
       "    </tr>\n",
       "    <tr>\n",
       "      <th>1</th>\n",
       "      <td>First Love, Last Rites</td>\n",
       "      <td>10876.0</td>\n",
       "      <td>10876.0</td>\n",
       "      <td>NaN</td>\n",
       "      <td>300000.0</td>\n",
       "      <td>Aug 07 1998</td>\n",
       "      <td>R</td>\n",
       "      <td>NaN</td>\n",
       "      <td>Strand</td>\n",
       "      <td>None</td>\n",
       "      <td>Drama</td>\n",
       "      <td>None</td>\n",
       "      <td>None</td>\n",
       "      <td>NaN</td>\n",
       "      <td>6.9</td>\n",
       "      <td>207.0</td>\n",
       "    </tr>\n",
       "    <tr>\n",
       "      <th>2</th>\n",
       "      <td>I Married a Strange Person</td>\n",
       "      <td>203134.0</td>\n",
       "      <td>203134.0</td>\n",
       "      <td>NaN</td>\n",
       "      <td>250000.0</td>\n",
       "      <td>Aug 28 1998</td>\n",
       "      <td>None</td>\n",
       "      <td>NaN</td>\n",
       "      <td>Lionsgate</td>\n",
       "      <td>None</td>\n",
       "      <td>Comedy</td>\n",
       "      <td>None</td>\n",
       "      <td>None</td>\n",
       "      <td>NaN</td>\n",
       "      <td>6.8</td>\n",
       "      <td>865.0</td>\n",
       "    </tr>\n",
       "    <tr>\n",
       "      <th>3</th>\n",
       "      <td>Let's Talk About Sex</td>\n",
       "      <td>373615.0</td>\n",
       "      <td>373615.0</td>\n",
       "      <td>NaN</td>\n",
       "      <td>300000.0</td>\n",
       "      <td>Sep 11 1998</td>\n",
       "      <td>None</td>\n",
       "      <td>NaN</td>\n",
       "      <td>Fine Line</td>\n",
       "      <td>None</td>\n",
       "      <td>Comedy</td>\n",
       "      <td>None</td>\n",
       "      <td>None</td>\n",
       "      <td>13.0</td>\n",
       "      <td>NaN</td>\n",
       "      <td>NaN</td>\n",
       "    </tr>\n",
       "    <tr>\n",
       "      <th>4</th>\n",
       "      <td>Slam</td>\n",
       "      <td>1009819.0</td>\n",
       "      <td>1087521.0</td>\n",
       "      <td>NaN</td>\n",
       "      <td>1000000.0</td>\n",
       "      <td>Oct 09 1998</td>\n",
       "      <td>R</td>\n",
       "      <td>NaN</td>\n",
       "      <td>Trimark</td>\n",
       "      <td>Original Screenplay</td>\n",
       "      <td>Drama</td>\n",
       "      <td>Contemporary Fiction</td>\n",
       "      <td>None</td>\n",
       "      <td>62.0</td>\n",
       "      <td>3.4</td>\n",
       "      <td>165.0</td>\n",
       "    </tr>\n",
       "    <tr>\n",
       "      <th>...</th>\n",
       "      <td>...</td>\n",
       "      <td>...</td>\n",
       "      <td>...</td>\n",
       "      <td>...</td>\n",
       "      <td>...</td>\n",
       "      <td>...</td>\n",
       "      <td>...</td>\n",
       "      <td>...</td>\n",
       "      <td>...</td>\n",
       "      <td>...</td>\n",
       "      <td>...</td>\n",
       "      <td>...</td>\n",
       "      <td>...</td>\n",
       "      <td>...</td>\n",
       "      <td>...</td>\n",
       "      <td>...</td>\n",
       "    </tr>\n",
       "    <tr>\n",
       "      <th>3196</th>\n",
       "      <td>Zack and Miri Make a Porno</td>\n",
       "      <td>31452765.0</td>\n",
       "      <td>36851125.0</td>\n",
       "      <td>21240321.0</td>\n",
       "      <td>24000000.0</td>\n",
       "      <td>Oct 31 2008</td>\n",
       "      <td>R</td>\n",
       "      <td>101.0</td>\n",
       "      <td>Weinstein Co.</td>\n",
       "      <td>Original Screenplay</td>\n",
       "      <td>Comedy</td>\n",
       "      <td>Contemporary Fiction</td>\n",
       "      <td>Kevin Smith</td>\n",
       "      <td>65.0</td>\n",
       "      <td>7.0</td>\n",
       "      <td>55687.0</td>\n",
       "    </tr>\n",
       "    <tr>\n",
       "      <th>3197</th>\n",
       "      <td>Zodiac</td>\n",
       "      <td>33080084.0</td>\n",
       "      <td>83080084.0</td>\n",
       "      <td>20983030.0</td>\n",
       "      <td>85000000.0</td>\n",
       "      <td>Mar 02 2007</td>\n",
       "      <td>R</td>\n",
       "      <td>157.0</td>\n",
       "      <td>Paramount Pictures</td>\n",
       "      <td>Based on Book/Short Story</td>\n",
       "      <td>Thriller/Suspense</td>\n",
       "      <td>Dramatization</td>\n",
       "      <td>David Fincher</td>\n",
       "      <td>89.0</td>\n",
       "      <td>NaN</td>\n",
       "      <td>NaN</td>\n",
       "    </tr>\n",
       "    <tr>\n",
       "      <th>3198</th>\n",
       "      <td>Zoom</td>\n",
       "      <td>11989328.0</td>\n",
       "      <td>12506188.0</td>\n",
       "      <td>6679409.0</td>\n",
       "      <td>35000000.0</td>\n",
       "      <td>Aug 11 2006</td>\n",
       "      <td>PG</td>\n",
       "      <td>NaN</td>\n",
       "      <td>Sony Pictures</td>\n",
       "      <td>Based on Comic/Graphic Novel</td>\n",
       "      <td>Adventure</td>\n",
       "      <td>Super Hero</td>\n",
       "      <td>Peter Hewitt</td>\n",
       "      <td>3.0</td>\n",
       "      <td>3.4</td>\n",
       "      <td>7424.0</td>\n",
       "    </tr>\n",
       "    <tr>\n",
       "      <th>3199</th>\n",
       "      <td>The Legend of Zorro</td>\n",
       "      <td>45575336.0</td>\n",
       "      <td>141475336.0</td>\n",
       "      <td>NaN</td>\n",
       "      <td>80000000.0</td>\n",
       "      <td>Oct 28 2005</td>\n",
       "      <td>PG</td>\n",
       "      <td>129.0</td>\n",
       "      <td>Sony Pictures</td>\n",
       "      <td>Remake</td>\n",
       "      <td>Adventure</td>\n",
       "      <td>Historical Fiction</td>\n",
       "      <td>Martin Campbell</td>\n",
       "      <td>26.0</td>\n",
       "      <td>5.7</td>\n",
       "      <td>21161.0</td>\n",
       "    </tr>\n",
       "    <tr>\n",
       "      <th>3200</th>\n",
       "      <td>The Mask of Zorro</td>\n",
       "      <td>93828745.0</td>\n",
       "      <td>233700000.0</td>\n",
       "      <td>NaN</td>\n",
       "      <td>65000000.0</td>\n",
       "      <td>Jul 17 1998</td>\n",
       "      <td>PG-13</td>\n",
       "      <td>136.0</td>\n",
       "      <td>Sony Pictures</td>\n",
       "      <td>Remake</td>\n",
       "      <td>Adventure</td>\n",
       "      <td>Historical Fiction</td>\n",
       "      <td>Martin Campbell</td>\n",
       "      <td>82.0</td>\n",
       "      <td>6.7</td>\n",
       "      <td>4789.0</td>\n",
       "    </tr>\n",
       "  </tbody>\n",
       "</table>\n",
       "<p>3201 rows × 16 columns</p>\n",
       "</div>"
      ],
      "text/plain": [
       "                           Title    US_Gross  Worldwide_Gross  US_DVD_Sales  \\\n",
       "0                 The Land Girls    146083.0         146083.0           NaN   \n",
       "1         First Love, Last Rites     10876.0          10876.0           NaN   \n",
       "2     I Married a Strange Person    203134.0         203134.0           NaN   \n",
       "3           Let's Talk About Sex    373615.0         373615.0           NaN   \n",
       "4                           Slam   1009819.0        1087521.0           NaN   \n",
       "...                          ...         ...              ...           ...   \n",
       "3196  Zack and Miri Make a Porno  31452765.0       36851125.0    21240321.0   \n",
       "3197                      Zodiac  33080084.0       83080084.0    20983030.0   \n",
       "3198                        Zoom  11989328.0       12506188.0     6679409.0   \n",
       "3199         The Legend of Zorro  45575336.0      141475336.0           NaN   \n",
       "3200           The Mask of Zorro  93828745.0      233700000.0           NaN   \n",
       "\n",
       "      Production_Budget Release_Date MPAA_Rating  Running_Time_min  \\\n",
       "0             8000000.0  Jun 12 1998           R               NaN   \n",
       "1              300000.0  Aug 07 1998           R               NaN   \n",
       "2              250000.0  Aug 28 1998        None               NaN   \n",
       "3              300000.0  Sep 11 1998        None               NaN   \n",
       "4             1000000.0  Oct 09 1998           R               NaN   \n",
       "...                 ...          ...         ...               ...   \n",
       "3196         24000000.0  Oct 31 2008           R             101.0   \n",
       "3197         85000000.0  Mar 02 2007           R             157.0   \n",
       "3198         35000000.0  Aug 11 2006          PG               NaN   \n",
       "3199         80000000.0  Oct 28 2005          PG             129.0   \n",
       "3200         65000000.0  Jul 17 1998       PG-13             136.0   \n",
       "\n",
       "             Distributor                        Source        Major_Genre  \\\n",
       "0               Gramercy                          None               None   \n",
       "1                 Strand                          None              Drama   \n",
       "2              Lionsgate                          None             Comedy   \n",
       "3              Fine Line                          None             Comedy   \n",
       "4                Trimark           Original Screenplay              Drama   \n",
       "...                  ...                           ...                ...   \n",
       "3196       Weinstein Co.           Original Screenplay             Comedy   \n",
       "3197  Paramount Pictures     Based on Book/Short Story  Thriller/Suspense   \n",
       "3198       Sony Pictures  Based on Comic/Graphic Novel          Adventure   \n",
       "3199       Sony Pictures                        Remake          Adventure   \n",
       "3200       Sony Pictures                        Remake          Adventure   \n",
       "\n",
       "             Creative_Type         Director  Rotten_Tomatoes_Rating  \\\n",
       "0                     None             None                     NaN   \n",
       "1                     None             None                     NaN   \n",
       "2                     None             None                     NaN   \n",
       "3                     None             None                    13.0   \n",
       "4     Contemporary Fiction             None                    62.0   \n",
       "...                    ...              ...                     ...   \n",
       "3196  Contemporary Fiction      Kevin Smith                    65.0   \n",
       "3197         Dramatization    David Fincher                    89.0   \n",
       "3198            Super Hero     Peter Hewitt                     3.0   \n",
       "3199    Historical Fiction  Martin Campbell                    26.0   \n",
       "3200    Historical Fiction  Martin Campbell                    82.0   \n",
       "\n",
       "      IMDB_Rating  IMDB_Votes  \n",
       "0             6.1      1071.0  \n",
       "1             6.9       207.0  \n",
       "2             6.8       865.0  \n",
       "3             NaN         NaN  \n",
       "4             3.4       165.0  \n",
       "...           ...         ...  \n",
       "3196          7.0     55687.0  \n",
       "3197          NaN         NaN  \n",
       "3198          3.4      7424.0  \n",
       "3199          5.7     21161.0  \n",
       "3200          6.7      4789.0  \n",
       "\n",
       "[3201 rows x 16 columns]"
      ]
     },
     "execution_count": 5,
     "metadata": {},
     "output_type": "execute_result"
    }
   ],
   "source": [
    "movies"
   ]
  },
  {
   "cell_type": "code",
   "execution_count": null,
   "id": "bdd6092b-fc3e-4174-a473-755d9430971d",
   "metadata": {},
   "outputs": [
    {
     "ename": "SyntaxError",
     "evalue": "invalid syntax (<ipython-input-6-18f485bcf618>, line 2)",
     "output_type": "error",
     "traceback": [
      "\u001b[0;36m  Cell \u001b[0;32mIn[6], line 2\u001b[0;36m\u001b[0m\n\u001b[0;31m    if movie_type == \"Super Hero\" and us_gross = ww_gross:\u001b[0m\n\u001b[0m                                               ^\u001b[0m\n\u001b[0;31mSyntaxError\u001b[0m\u001b[0;31m:\u001b[0m invalid syntax\n"
     ]
    }
   ],
   "source": [
    "def flag_movie(movie_type, us_gross, ww_gross): \n",
    "    if movie_type == \"Super Hero\" and us_gross = ww_gross: \n",
    "        return \"US action movie\"\n",
    "    elif movie_type == \"Super Hero\" and us_gross < ww_gross: \n",
    "        return \"Global Action movie\"\n",
    "    else: \n",
    "        None"
   ]
  },
  {
   "cell_type": "code",
   "execution_count": null,
   "id": "3a73e968-50f9-4f86-9517-05e3993e5bab",
   "metadata": {},
   "outputs": [
    {
     "data": {
      "text/html": [
       "<div>\n",
       "<style scoped>\n",
       "    .dataframe tbody tr th:only-of-type {\n",
       "        vertical-align: middle;\n",
       "    }\n",
       "\n",
       "    .dataframe tbody tr th {\n",
       "        vertical-align: top;\n",
       "    }\n",
       "\n",
       "    .dataframe thead th {\n",
       "        text-align: right;\n",
       "    }\n",
       "</style>\n",
       "<table border=\"1\" class=\"dataframe\">\n",
       "  <thead>\n",
       "    <tr style=\"text-align: right;\">\n",
       "      <th></th>\n",
       "      <th>Title</th>\n",
       "      <th>US_Gross</th>\n",
       "      <th>Worldwide_Gross</th>\n",
       "      <th>US_DVD_Sales</th>\n",
       "      <th>Production_Budget</th>\n",
       "      <th>Release_Date</th>\n",
       "      <th>MPAA_Rating</th>\n",
       "      <th>Running_Time_min</th>\n",
       "      <th>Distributor</th>\n",
       "      <th>Source</th>\n",
       "      <th>Major_Genre</th>\n",
       "      <th>Creative_Type</th>\n",
       "      <th>Director</th>\n",
       "      <th>Rotten_Tomatoes_Rating</th>\n",
       "      <th>IMDB_Rating</th>\n",
       "      <th>IMDB_Votes</th>\n",
       "    </tr>\n",
       "  </thead>\n",
       "  <tbody>\n",
       "    <tr>\n",
       "      <th>0</th>\n",
       "      <td>The Land Girls</td>\n",
       "      <td>146083.0</td>\n",
       "      <td>146083.0</td>\n",
       "      <td>NaN</td>\n",
       "      <td>8000000.0</td>\n",
       "      <td>Jun 12 1998</td>\n",
       "      <td>R</td>\n",
       "      <td>NaN</td>\n",
       "      <td>Gramercy</td>\n",
       "      <td>None</td>\n",
       "      <td>None</td>\n",
       "      <td>None</td>\n",
       "      <td>None</td>\n",
       "      <td>NaN</td>\n",
       "      <td>6.1</td>\n",
       "      <td>1071.0</td>\n",
       "    </tr>\n",
       "    <tr>\n",
       "      <th>1</th>\n",
       "      <td>First Love, Last Rites</td>\n",
       "      <td>10876.0</td>\n",
       "      <td>10876.0</td>\n",
       "      <td>NaN</td>\n",
       "      <td>300000.0</td>\n",
       "      <td>Aug 07 1998</td>\n",
       "      <td>R</td>\n",
       "      <td>NaN</td>\n",
       "      <td>Strand</td>\n",
       "      <td>None</td>\n",
       "      <td>Drama</td>\n",
       "      <td>None</td>\n",
       "      <td>None</td>\n",
       "      <td>NaN</td>\n",
       "      <td>6.9</td>\n",
       "      <td>207.0</td>\n",
       "    </tr>\n",
       "    <tr>\n",
       "      <th>2</th>\n",
       "      <td>I Married a Strange Person</td>\n",
       "      <td>203134.0</td>\n",
       "      <td>203134.0</td>\n",
       "      <td>NaN</td>\n",
       "      <td>250000.0</td>\n",
       "      <td>Aug 28 1998</td>\n",
       "      <td>None</td>\n",
       "      <td>NaN</td>\n",
       "      <td>Lionsgate</td>\n",
       "      <td>None</td>\n",
       "      <td>Comedy</td>\n",
       "      <td>None</td>\n",
       "      <td>None</td>\n",
       "      <td>NaN</td>\n",
       "      <td>6.8</td>\n",
       "      <td>865.0</td>\n",
       "    </tr>\n",
       "    <tr>\n",
       "      <th>3</th>\n",
       "      <td>Let's Talk About Sex</td>\n",
       "      <td>373615.0</td>\n",
       "      <td>373615.0</td>\n",
       "      <td>NaN</td>\n",
       "      <td>300000.0</td>\n",
       "      <td>Sep 11 1998</td>\n",
       "      <td>None</td>\n",
       "      <td>NaN</td>\n",
       "      <td>Fine Line</td>\n",
       "      <td>None</td>\n",
       "      <td>Comedy</td>\n",
       "      <td>None</td>\n",
       "      <td>None</td>\n",
       "      <td>13.0</td>\n",
       "      <td>NaN</td>\n",
       "      <td>NaN</td>\n",
       "    </tr>\n",
       "    <tr>\n",
       "      <th>4</th>\n",
       "      <td>Slam</td>\n",
       "      <td>1009819.0</td>\n",
       "      <td>1087521.0</td>\n",
       "      <td>NaN</td>\n",
       "      <td>1000000.0</td>\n",
       "      <td>Oct 09 1998</td>\n",
       "      <td>R</td>\n",
       "      <td>NaN</td>\n",
       "      <td>Trimark</td>\n",
       "      <td>Original Screenplay</td>\n",
       "      <td>Drama</td>\n",
       "      <td>Contemporary Fiction</td>\n",
       "      <td>None</td>\n",
       "      <td>62.0</td>\n",
       "      <td>3.4</td>\n",
       "      <td>165.0</td>\n",
       "    </tr>\n",
       "    <tr>\n",
       "      <th>...</th>\n",
       "      <td>...</td>\n",
       "      <td>...</td>\n",
       "      <td>...</td>\n",
       "      <td>...</td>\n",
       "      <td>...</td>\n",
       "      <td>...</td>\n",
       "      <td>...</td>\n",
       "      <td>...</td>\n",
       "      <td>...</td>\n",
       "      <td>...</td>\n",
       "      <td>...</td>\n",
       "      <td>...</td>\n",
       "      <td>...</td>\n",
       "      <td>...</td>\n",
       "      <td>...</td>\n",
       "      <td>...</td>\n",
       "    </tr>\n",
       "    <tr>\n",
       "      <th>3196</th>\n",
       "      <td>Zack and Miri Make a Porno</td>\n",
       "      <td>31452765.0</td>\n",
       "      <td>36851125.0</td>\n",
       "      <td>21240321.0</td>\n",
       "      <td>24000000.0</td>\n",
       "      <td>Oct 31 2008</td>\n",
       "      <td>R</td>\n",
       "      <td>101.0</td>\n",
       "      <td>Weinstein Co.</td>\n",
       "      <td>Original Screenplay</td>\n",
       "      <td>Comedy</td>\n",
       "      <td>Contemporary Fiction</td>\n",
       "      <td>Kevin Smith</td>\n",
       "      <td>65.0</td>\n",
       "      <td>7.0</td>\n",
       "      <td>55687.0</td>\n",
       "    </tr>\n",
       "    <tr>\n",
       "      <th>3197</th>\n",
       "      <td>Zodiac</td>\n",
       "      <td>33080084.0</td>\n",
       "      <td>83080084.0</td>\n",
       "      <td>20983030.0</td>\n",
       "      <td>85000000.0</td>\n",
       "      <td>Mar 02 2007</td>\n",
       "      <td>R</td>\n",
       "      <td>157.0</td>\n",
       "      <td>Paramount Pictures</td>\n",
       "      <td>Based on Book/Short Story</td>\n",
       "      <td>Thriller/Suspense</td>\n",
       "      <td>Dramatization</td>\n",
       "      <td>David Fincher</td>\n",
       "      <td>89.0</td>\n",
       "      <td>NaN</td>\n",
       "      <td>NaN</td>\n",
       "    </tr>\n",
       "    <tr>\n",
       "      <th>3198</th>\n",
       "      <td>Zoom</td>\n",
       "      <td>11989328.0</td>\n",
       "      <td>12506188.0</td>\n",
       "      <td>6679409.0</td>\n",
       "      <td>35000000.0</td>\n",
       "      <td>Aug 11 2006</td>\n",
       "      <td>PG</td>\n",
       "      <td>NaN</td>\n",
       "      <td>Sony Pictures</td>\n",
       "      <td>Based on Comic/Graphic Novel</td>\n",
       "      <td>Adventure</td>\n",
       "      <td>Super Hero</td>\n",
       "      <td>Peter Hewitt</td>\n",
       "      <td>3.0</td>\n",
       "      <td>3.4</td>\n",
       "      <td>7424.0</td>\n",
       "    </tr>\n",
       "    <tr>\n",
       "      <th>3199</th>\n",
       "      <td>The Legend of Zorro</td>\n",
       "      <td>45575336.0</td>\n",
       "      <td>141475336.0</td>\n",
       "      <td>NaN</td>\n",
       "      <td>80000000.0</td>\n",
       "      <td>Oct 28 2005</td>\n",
       "      <td>PG</td>\n",
       "      <td>129.0</td>\n",
       "      <td>Sony Pictures</td>\n",
       "      <td>Remake</td>\n",
       "      <td>Adventure</td>\n",
       "      <td>Historical Fiction</td>\n",
       "      <td>Martin Campbell</td>\n",
       "      <td>26.0</td>\n",
       "      <td>5.7</td>\n",
       "      <td>21161.0</td>\n",
       "    </tr>\n",
       "    <tr>\n",
       "      <th>3200</th>\n",
       "      <td>The Mask of Zorro</td>\n",
       "      <td>93828745.0</td>\n",
       "      <td>233700000.0</td>\n",
       "      <td>NaN</td>\n",
       "      <td>65000000.0</td>\n",
       "      <td>Jul 17 1998</td>\n",
       "      <td>PG-13</td>\n",
       "      <td>136.0</td>\n",
       "      <td>Sony Pictures</td>\n",
       "      <td>Remake</td>\n",
       "      <td>Adventure</td>\n",
       "      <td>Historical Fiction</td>\n",
       "      <td>Martin Campbell</td>\n",
       "      <td>82.0</td>\n",
       "      <td>6.7</td>\n",
       "      <td>4789.0</td>\n",
       "    </tr>\n",
       "  </tbody>\n",
       "</table>\n",
       "<p>3201 rows × 16 columns</p>\n",
       "</div>"
      ],
      "text/plain": [
       "                           Title    US_Gross  Worldwide_Gross  US_DVD_Sales  \\\n",
       "0                 The Land Girls    146083.0         146083.0           NaN   \n",
       "1         First Love, Last Rites     10876.0          10876.0           NaN   \n",
       "2     I Married a Strange Person    203134.0         203134.0           NaN   \n",
       "3           Let's Talk About Sex    373615.0         373615.0           NaN   \n",
       "4                           Slam   1009819.0        1087521.0           NaN   \n",
       "...                          ...         ...              ...           ...   \n",
       "3196  Zack and Miri Make a Porno  31452765.0       36851125.0    21240321.0   \n",
       "3197                      Zodiac  33080084.0       83080084.0    20983030.0   \n",
       "3198                        Zoom  11989328.0       12506188.0     6679409.0   \n",
       "3199         The Legend of Zorro  45575336.0      141475336.0           NaN   \n",
       "3200           The Mask of Zorro  93828745.0      233700000.0           NaN   \n",
       "\n",
       "      Production_Budget Release_Date MPAA_Rating  Running_Time_min  \\\n",
       "0             8000000.0  Jun 12 1998           R               NaN   \n",
       "1              300000.0  Aug 07 1998           R               NaN   \n",
       "2              250000.0  Aug 28 1998        None               NaN   \n",
       "3              300000.0  Sep 11 1998        None               NaN   \n",
       "4             1000000.0  Oct 09 1998           R               NaN   \n",
       "...                 ...          ...         ...               ...   \n",
       "3196         24000000.0  Oct 31 2008           R             101.0   \n",
       "3197         85000000.0  Mar 02 2007           R             157.0   \n",
       "3198         35000000.0  Aug 11 2006          PG               NaN   \n",
       "3199         80000000.0  Oct 28 2005          PG             129.0   \n",
       "3200         65000000.0  Jul 17 1998       PG-13             136.0   \n",
       "\n",
       "             Distributor                        Source        Major_Genre  \\\n",
       "0               Gramercy                          None               None   \n",
       "1                 Strand                          None              Drama   \n",
       "2              Lionsgate                          None             Comedy   \n",
       "3              Fine Line                          None             Comedy   \n",
       "4                Trimark           Original Screenplay              Drama   \n",
       "...                  ...                           ...                ...   \n",
       "3196       Weinstein Co.           Original Screenplay             Comedy   \n",
       "3197  Paramount Pictures     Based on Book/Short Story  Thriller/Suspense   \n",
       "3198       Sony Pictures  Based on Comic/Graphic Novel          Adventure   \n",
       "3199       Sony Pictures                        Remake          Adventure   \n",
       "3200       Sony Pictures                        Remake          Adventure   \n",
       "\n",
       "             Creative_Type         Director  Rotten_Tomatoes_Rating  \\\n",
       "0                     None             None                     NaN   \n",
       "1                     None             None                     NaN   \n",
       "2                     None             None                     NaN   \n",
       "3                     None             None                    13.0   \n",
       "4     Contemporary Fiction             None                    62.0   \n",
       "...                    ...              ...                     ...   \n",
       "3196  Contemporary Fiction      Kevin Smith                    65.0   \n",
       "3197         Dramatization    David Fincher                    89.0   \n",
       "3198            Super Hero     Peter Hewitt                     3.0   \n",
       "3199    Historical Fiction  Martin Campbell                    26.0   \n",
       "3200    Historical Fiction  Martin Campbell                    82.0   \n",
       "\n",
       "      IMDB_Rating  IMDB_Votes  \n",
       "0             6.1      1071.0  \n",
       "1             6.9       207.0  \n",
       "2             6.8       865.0  \n",
       "3             NaN         NaN  \n",
       "4             3.4       165.0  \n",
       "...           ...         ...  \n",
       "3196          7.0     55687.0  \n",
       "3197          NaN         NaN  \n",
       "3198          3.4      7424.0  \n",
       "3199          5.7     21161.0  \n",
       "3200          6.7      4789.0  \n",
       "\n",
       "[3201 rows x 16 columns]"
      ]
     },
     "execution_count": 7,
     "metadata": {},
     "output_type": "execute_result"
    }
   ],
   "source": [
    "movies"
   ]
  },
  {
   "cell_type": "markdown",
   "metadata": {},
   "source": [
    "Connected to .venv (Python 3.12.0)"
   ]
  },
  {
   "cell_type": "code",
   "execution_count": null,
   "id": "ff1a54b0-b5a0-4a26-ad73-10aa12fb07ad",
   "metadata": {
    "vscode": {
     "languageId": "quarto"
    }
   },
   "outputs": [
    {
     "ename": "SyntaxError",
     "evalue": "invalid syntax (<ipython-input-1-18f485bcf618>, line 2)",
     "output_type": "error",
     "traceback": [
      "\u001b[0;36m  Cell \u001b[0;32mIn[1], line 2\u001b[0;36m\u001b[0m\n\u001b[0;31m    if movie_type == \"Super Hero\" and us_gross = ww_gross:\u001b[0m\n\u001b[0m                                               ^\u001b[0m\n\u001b[0;31mSyntaxError\u001b[0m\u001b[0;31m:\u001b[0m invalid syntax\n"
     ]
    }
   ],
   "source": [
    "def flag_movie(movie_type, us_gross, ww_gross): \n",
    "    if movie_type == \"Super Hero\" and us_gross = ww_gross: \n",
    "        return \"US action movie\"\n",
    "    elif movie_type == \"Super Hero\" and us_gross < ww_gross: \n",
    "        return \"Global Action movie\"\n",
    "    else: \n",
    "        None"
   ]
  },
  {
   "cell_type": "code",
   "execution_count": null,
   "id": "6d96df2c-4a15-4f15-b422-0507e743d916",
   "metadata": {
    "vscode": {
     "languageId": "quarto"
    }
   },
   "outputs": [],
   "source": [
    "import pandas as pd\n",
    "import numpy as np\n",
    "import vega_datasets as vd\n",
    "import plotly.express as px"
   ]
  },
  {
   "cell_type": "code",
   "execution_count": null,
   "id": "3850ed09-3412-4e19-801c-c432d28111d4",
   "metadata": {
    "vscode": {
     "languageId": "quarto"
    }
   },
   "outputs": [
    {
     "data": {
      "text/plain": [
       "Creative_Type\n",
       "Contemporary Fiction       1453\n",
       "None                        446\n",
       "Historical Fiction          350\n",
       "Fantasy                     265\n",
       "Science Fiction             243\n",
       "Dramatization               204\n",
       "Kids Fiction                141\n",
       "Factual                      49\n",
       "Super Hero                   49\n",
       "Multiple Creative Types       1\n",
       "Name: count, dtype: int64"
      ]
     },
     "execution_count": 3,
     "metadata": {},
     "output_type": "execute_result"
    }
   ],
   "source": [
    "movies = vd.data.movies()\n",
    "movies[\"Creative_Type\"].value_counts(dropna=False)"
   ]
  },
  {
   "cell_type": "code",
   "execution_count": null,
   "id": "ebdc9a09-4369-416a-aaea-10752393be59",
   "metadata": {
    "vscode": {
     "languageId": "quarto"
    }
   },
   "outputs": [
    {
     "data": {
      "text/plain": [
       "array(['Low', 'Medium', 'High', 'Low'], dtype='<U6')"
      ]
     },
     "execution_count": 4,
     "metadata": {},
     "output_type": "execute_result"
    }
   ],
   "source": [
    "def categ_gross(gross): \n",
    "    if gross < 10000000: \n",
    "        return \"Low\"\n",
    "    elif gross >= 10000000 and gross <=  50000000: \n",
    "        return \"Medium\"\n",
    "    elif gross > 50000000: \n",
    "        return \"High\"\n",
    "    else: \n",
    "        return None\n",
    "\n",
    "categ_gross_vec = np.vectorize(categ_gross) \n",
    "\n",
    "categ_gross_vec([10, 15000000, 6000000000, -1])"
   ]
  },
  {
   "cell_type": "code",
   "execution_count": null,
   "id": "ff586410-f874-4949-91c2-edae6686606d",
   "metadata": {
    "vscode": {
     "languageId": "quarto"
    }
   },
   "outputs": [
    {
     "data": {
      "text/plain": [
       "gross_category\n",
       "Medium    1241\n",
       "Low       1046\n",
       "High       907\n",
       "None         7\n",
       "Name: count, dtype: int64"
      ]
     },
     "execution_count": 5,
     "metadata": {},
     "output_type": "execute_result"
    }
   ],
   "source": [
    "movies[\"gross_category\"] = categ_gross_vec(movies[\"US_Gross\"])\n",
    "movies[\"gross_category\"].value_counts(dropna=False)"
   ]
  },
  {
   "cell_type": "code",
   "execution_count": null,
   "id": "d790c9ba-4fbd-41e6-8551-ee8c9d52a2c9",
   "metadata": {
    "vscode": {
     "languageId": "quarto"
    }
   },
   "outputs": [
    {
     "data": {
      "text/html": [
       "<div>\n",
       "<style scoped>\n",
       "    .dataframe tbody tr th:only-of-type {\n",
       "        vertical-align: middle;\n",
       "    }\n",
       "\n",
       "    .dataframe tbody tr th {\n",
       "        vertical-align: top;\n",
       "    }\n",
       "\n",
       "    .dataframe thead th {\n",
       "        text-align: right;\n",
       "    }\n",
       "</style>\n",
       "<table border=\"1\" class=\"dataframe\">\n",
       "  <thead>\n",
       "    <tr style=\"text-align: right;\">\n",
       "      <th></th>\n",
       "      <th>Title</th>\n",
       "      <th>US_Gross</th>\n",
       "      <th>Worldwide_Gross</th>\n",
       "      <th>US_DVD_Sales</th>\n",
       "      <th>Production_Budget</th>\n",
       "      <th>Release_Date</th>\n",
       "      <th>MPAA_Rating</th>\n",
       "      <th>Running_Time_min</th>\n",
       "      <th>Distributor</th>\n",
       "      <th>Source</th>\n",
       "      <th>Major_Genre</th>\n",
       "      <th>Creative_Type</th>\n",
       "      <th>Director</th>\n",
       "      <th>Rotten_Tomatoes_Rating</th>\n",
       "      <th>IMDB_Rating</th>\n",
       "      <th>IMDB_Votes</th>\n",
       "      <th>gross_category</th>\n",
       "    </tr>\n",
       "  </thead>\n",
       "  <tbody>\n",
       "    <tr>\n",
       "      <th>0</th>\n",
       "      <td>The Land Girls</td>\n",
       "      <td>146083.0</td>\n",
       "      <td>146083.0</td>\n",
       "      <td>NaN</td>\n",
       "      <td>8000000.0</td>\n",
       "      <td>Jun 12 1998</td>\n",
       "      <td>R</td>\n",
       "      <td>NaN</td>\n",
       "      <td>Gramercy</td>\n",
       "      <td>None</td>\n",
       "      <td>None</td>\n",
       "      <td>None</td>\n",
       "      <td>None</td>\n",
       "      <td>NaN</td>\n",
       "      <td>6.1</td>\n",
       "      <td>1071.0</td>\n",
       "      <td>Low</td>\n",
       "    </tr>\n",
       "    <tr>\n",
       "      <th>1</th>\n",
       "      <td>First Love, Last Rites</td>\n",
       "      <td>10876.0</td>\n",
       "      <td>10876.0</td>\n",
       "      <td>NaN</td>\n",
       "      <td>300000.0</td>\n",
       "      <td>Aug 07 1998</td>\n",
       "      <td>R</td>\n",
       "      <td>NaN</td>\n",
       "      <td>Strand</td>\n",
       "      <td>None</td>\n",
       "      <td>Drama</td>\n",
       "      <td>None</td>\n",
       "      <td>None</td>\n",
       "      <td>NaN</td>\n",
       "      <td>6.9</td>\n",
       "      <td>207.0</td>\n",
       "      <td>Low</td>\n",
       "    </tr>\n",
       "    <tr>\n",
       "      <th>2</th>\n",
       "      <td>I Married a Strange Person</td>\n",
       "      <td>203134.0</td>\n",
       "      <td>203134.0</td>\n",
       "      <td>NaN</td>\n",
       "      <td>250000.0</td>\n",
       "      <td>Aug 28 1998</td>\n",
       "      <td>None</td>\n",
       "      <td>NaN</td>\n",
       "      <td>Lionsgate</td>\n",
       "      <td>None</td>\n",
       "      <td>Comedy</td>\n",
       "      <td>None</td>\n",
       "      <td>None</td>\n",
       "      <td>NaN</td>\n",
       "      <td>6.8</td>\n",
       "      <td>865.0</td>\n",
       "      <td>Low</td>\n",
       "    </tr>\n",
       "    <tr>\n",
       "      <th>3</th>\n",
       "      <td>Let's Talk About Sex</td>\n",
       "      <td>373615.0</td>\n",
       "      <td>373615.0</td>\n",
       "      <td>NaN</td>\n",
       "      <td>300000.0</td>\n",
       "      <td>Sep 11 1998</td>\n",
       "      <td>None</td>\n",
       "      <td>NaN</td>\n",
       "      <td>Fine Line</td>\n",
       "      <td>None</td>\n",
       "      <td>Comedy</td>\n",
       "      <td>None</td>\n",
       "      <td>None</td>\n",
       "      <td>13.0</td>\n",
       "      <td>NaN</td>\n",
       "      <td>NaN</td>\n",
       "      <td>Low</td>\n",
       "    </tr>\n",
       "    <tr>\n",
       "      <th>4</th>\n",
       "      <td>Slam</td>\n",
       "      <td>1009819.0</td>\n",
       "      <td>1087521.0</td>\n",
       "      <td>NaN</td>\n",
       "      <td>1000000.0</td>\n",
       "      <td>Oct 09 1998</td>\n",
       "      <td>R</td>\n",
       "      <td>NaN</td>\n",
       "      <td>Trimark</td>\n",
       "      <td>Original Screenplay</td>\n",
       "      <td>Drama</td>\n",
       "      <td>Contemporary Fiction</td>\n",
       "      <td>None</td>\n",
       "      <td>62.0</td>\n",
       "      <td>3.4</td>\n",
       "      <td>165.0</td>\n",
       "      <td>Low</td>\n",
       "    </tr>\n",
       "    <tr>\n",
       "      <th>...</th>\n",
       "      <td>...</td>\n",
       "      <td>...</td>\n",
       "      <td>...</td>\n",
       "      <td>...</td>\n",
       "      <td>...</td>\n",
       "      <td>...</td>\n",
       "      <td>...</td>\n",
       "      <td>...</td>\n",
       "      <td>...</td>\n",
       "      <td>...</td>\n",
       "      <td>...</td>\n",
       "      <td>...</td>\n",
       "      <td>...</td>\n",
       "      <td>...</td>\n",
       "      <td>...</td>\n",
       "      <td>...</td>\n",
       "      <td>...</td>\n",
       "    </tr>\n",
       "    <tr>\n",
       "      <th>3196</th>\n",
       "      <td>Zack and Miri Make a Porno</td>\n",
       "      <td>31452765.0</td>\n",
       "      <td>36851125.0</td>\n",
       "      <td>21240321.0</td>\n",
       "      <td>24000000.0</td>\n",
       "      <td>Oct 31 2008</td>\n",
       "      <td>R</td>\n",
       "      <td>101.0</td>\n",
       "      <td>Weinstein Co.</td>\n",
       "      <td>Original Screenplay</td>\n",
       "      <td>Comedy</td>\n",
       "      <td>Contemporary Fiction</td>\n",
       "      <td>Kevin Smith</td>\n",
       "      <td>65.0</td>\n",
       "      <td>7.0</td>\n",
       "      <td>55687.0</td>\n",
       "      <td>Medium</td>\n",
       "    </tr>\n",
       "    <tr>\n",
       "      <th>3197</th>\n",
       "      <td>Zodiac</td>\n",
       "      <td>33080084.0</td>\n",
       "      <td>83080084.0</td>\n",
       "      <td>20983030.0</td>\n",
       "      <td>85000000.0</td>\n",
       "      <td>Mar 02 2007</td>\n",
       "      <td>R</td>\n",
       "      <td>157.0</td>\n",
       "      <td>Paramount Pictures</td>\n",
       "      <td>Based on Book/Short Story</td>\n",
       "      <td>Thriller/Suspense</td>\n",
       "      <td>Dramatization</td>\n",
       "      <td>David Fincher</td>\n",
       "      <td>89.0</td>\n",
       "      <td>NaN</td>\n",
       "      <td>NaN</td>\n",
       "      <td>Medium</td>\n",
       "    </tr>\n",
       "    <tr>\n",
       "      <th>3198</th>\n",
       "      <td>Zoom</td>\n",
       "      <td>11989328.0</td>\n",
       "      <td>12506188.0</td>\n",
       "      <td>6679409.0</td>\n",
       "      <td>35000000.0</td>\n",
       "      <td>Aug 11 2006</td>\n",
       "      <td>PG</td>\n",
       "      <td>NaN</td>\n",
       "      <td>Sony Pictures</td>\n",
       "      <td>Based on Comic/Graphic Novel</td>\n",
       "      <td>Adventure</td>\n",
       "      <td>Super Hero</td>\n",
       "      <td>Peter Hewitt</td>\n",
       "      <td>3.0</td>\n",
       "      <td>3.4</td>\n",
       "      <td>7424.0</td>\n",
       "      <td>Medium</td>\n",
       "    </tr>\n",
       "    <tr>\n",
       "      <th>3199</th>\n",
       "      <td>The Legend of Zorro</td>\n",
       "      <td>45575336.0</td>\n",
       "      <td>141475336.0</td>\n",
       "      <td>NaN</td>\n",
       "      <td>80000000.0</td>\n",
       "      <td>Oct 28 2005</td>\n",
       "      <td>PG</td>\n",
       "      <td>129.0</td>\n",
       "      <td>Sony Pictures</td>\n",
       "      <td>Remake</td>\n",
       "      <td>Adventure</td>\n",
       "      <td>Historical Fiction</td>\n",
       "      <td>Martin Campbell</td>\n",
       "      <td>26.0</td>\n",
       "      <td>5.7</td>\n",
       "      <td>21161.0</td>\n",
       "      <td>Medium</td>\n",
       "    </tr>\n",
       "    <tr>\n",
       "      <th>3200</th>\n",
       "      <td>The Mask of Zorro</td>\n",
       "      <td>93828745.0</td>\n",
       "      <td>233700000.0</td>\n",
       "      <td>NaN</td>\n",
       "      <td>65000000.0</td>\n",
       "      <td>Jul 17 1998</td>\n",
       "      <td>PG-13</td>\n",
       "      <td>136.0</td>\n",
       "      <td>Sony Pictures</td>\n",
       "      <td>Remake</td>\n",
       "      <td>Adventure</td>\n",
       "      <td>Historical Fiction</td>\n",
       "      <td>Martin Campbell</td>\n",
       "      <td>82.0</td>\n",
       "      <td>6.7</td>\n",
       "      <td>4789.0</td>\n",
       "      <td>High</td>\n",
       "    </tr>\n",
       "  </tbody>\n",
       "</table>\n",
       "<p>3201 rows × 17 columns</p>\n",
       "</div>"
      ],
      "text/plain": [
       "                           Title    US_Gross  Worldwide_Gross  US_DVD_Sales  \\\n",
       "0                 The Land Girls    146083.0         146083.0           NaN   \n",
       "1         First Love, Last Rites     10876.0          10876.0           NaN   \n",
       "2     I Married a Strange Person    203134.0         203134.0           NaN   \n",
       "3           Let's Talk About Sex    373615.0         373615.0           NaN   \n",
       "4                           Slam   1009819.0        1087521.0           NaN   \n",
       "...                          ...         ...              ...           ...   \n",
       "3196  Zack and Miri Make a Porno  31452765.0       36851125.0    21240321.0   \n",
       "3197                      Zodiac  33080084.0       83080084.0    20983030.0   \n",
       "3198                        Zoom  11989328.0       12506188.0     6679409.0   \n",
       "3199         The Legend of Zorro  45575336.0      141475336.0           NaN   \n",
       "3200           The Mask of Zorro  93828745.0      233700000.0           NaN   \n",
       "\n",
       "      Production_Budget Release_Date MPAA_Rating  Running_Time_min  \\\n",
       "0             8000000.0  Jun 12 1998           R               NaN   \n",
       "1              300000.0  Aug 07 1998           R               NaN   \n",
       "2              250000.0  Aug 28 1998        None               NaN   \n",
       "3              300000.0  Sep 11 1998        None               NaN   \n",
       "4             1000000.0  Oct 09 1998           R               NaN   \n",
       "...                 ...          ...         ...               ...   \n",
       "3196         24000000.0  Oct 31 2008           R             101.0   \n",
       "3197         85000000.0  Mar 02 2007           R             157.0   \n",
       "3198         35000000.0  Aug 11 2006          PG               NaN   \n",
       "3199         80000000.0  Oct 28 2005          PG             129.0   \n",
       "3200         65000000.0  Jul 17 1998       PG-13             136.0   \n",
       "\n",
       "             Distributor                        Source        Major_Genre  \\\n",
       "0               Gramercy                          None               None   \n",
       "1                 Strand                          None              Drama   \n",
       "2              Lionsgate                          None             Comedy   \n",
       "3              Fine Line                          None             Comedy   \n",
       "4                Trimark           Original Screenplay              Drama   \n",
       "...                  ...                           ...                ...   \n",
       "3196       Weinstein Co.           Original Screenplay             Comedy   \n",
       "3197  Paramount Pictures     Based on Book/Short Story  Thriller/Suspense   \n",
       "3198       Sony Pictures  Based on Comic/Graphic Novel          Adventure   \n",
       "3199       Sony Pictures                        Remake          Adventure   \n",
       "3200       Sony Pictures                        Remake          Adventure   \n",
       "\n",
       "             Creative_Type         Director  Rotten_Tomatoes_Rating  \\\n",
       "0                     None             None                     NaN   \n",
       "1                     None             None                     NaN   \n",
       "2                     None             None                     NaN   \n",
       "3                     None             None                    13.0   \n",
       "4     Contemporary Fiction             None                    62.0   \n",
       "...                    ...              ...                     ...   \n",
       "3196  Contemporary Fiction      Kevin Smith                    65.0   \n",
       "3197         Dramatization    David Fincher                    89.0   \n",
       "3198            Super Hero     Peter Hewitt                     3.0   \n",
       "3199    Historical Fiction  Martin Campbell                    26.0   \n",
       "3200    Historical Fiction  Martin Campbell                    82.0   \n",
       "\n",
       "      IMDB_Rating  IMDB_Votes gross_category  \n",
       "0             6.1      1071.0            Low  \n",
       "1             6.9       207.0            Low  \n",
       "2             6.8       865.0            Low  \n",
       "3             NaN         NaN            Low  \n",
       "4             3.4       165.0            Low  \n",
       "...           ...         ...            ...  \n",
       "3196          7.0     55687.0         Medium  \n",
       "3197          NaN         NaN         Medium  \n",
       "3198          3.4      7424.0         Medium  \n",
       "3199          5.7     21161.0         Medium  \n",
       "3200          6.7      4789.0           High  \n",
       "\n",
       "[3201 rows x 17 columns]"
      ]
     },
     "execution_count": 6,
     "metadata": {},
     "output_type": "execute_result"
    }
   ],
   "source": [
    "movies"
   ]
  },
  {
   "cell_type": "code",
   "execution_count": null,
   "id": "d53f48b3-154d-487d-b5cf-692b6db20cd3",
   "metadata": {
    "vscode": {
     "languageId": "quarto"
    }
   },
   "outputs": [
    {
     "ename": "SyntaxError",
     "evalue": "invalid syntax (<ipython-input-7-18f485bcf618>, line 2)",
     "output_type": "error",
     "traceback": [
      "\u001b[0;36m  Cell \u001b[0;32mIn[7], line 2\u001b[0;36m\u001b[0m\n\u001b[0;31m    if movie_type == \"Super Hero\" and us_gross = ww_gross:\u001b[0m\n\u001b[0m                                               ^\u001b[0m\n\u001b[0;31mSyntaxError\u001b[0m\u001b[0;31m:\u001b[0m invalid syntax\n"
     ]
    }
   ],
   "source": [
    "def flag_movie(movie_type, us_gross, ww_gross): \n",
    "    if movie_type == \"Super Hero\" and us_gross = ww_gross: \n",
    "        return \"US action movie\"\n",
    "    elif movie_type == \"Super Hero\" and us_gross < ww_gross: \n",
    "        return \"Global Action movie\"\n",
    "    else: \n",
    "        None"
   ]
  },
  {
   "cell_type": "code",
   "execution_count": null,
   "id": "dcc82021-892e-4632-8581-2eb47c9853cd",
   "metadata": {
    "vscode": {
     "languageId": "quarto"
    }
   },
   "outputs": [],
   "source": [
    "def flag_movie(movie_type, us_gross, ww_gross): \n",
    "    if movie_type == \"Super Hero\" and us_gross == ww_gross: \n",
    "        return \"US action movie\"\n",
    "    elif movie_type == \"Super Hero\" and us_gross < ww_gross: \n",
    "        return \"Global Action movie\"\n",
    "    else: \n",
    "        None"
   ]
  },
  {
   "cell_type": "code",
   "execution_count": null,
   "id": "08e15e21-35c2-48eb-92aa-16107f61af77",
   "metadata": {
    "vscode": {
     "languageId": "quarto"
    }
   },
   "outputs": [],
   "source": [
    "def flag_movie(movie_type, us_gross, ww_gross): \n",
    "    if movie_type == \"Super Hero\" and us_gross == ww_gross: \n",
    "        return \"US action movie\"\n",
    "    elif movie_type == \"Super Hero\" and us_gross < ww_gross: \n",
    "        return \"Global Action movie\"\n",
    "    else: \n",
    "        None\n",
    "\n",
    "\n",
    "flag_movie_vec  = np.vectorize(flag_movie)"
   ]
  },
  {
   "cell_type": "code",
   "execution_count": null,
   "id": "4594297c-d410-471c-80aa-d702bbbdd7a6",
   "metadata": {
    "vscode": {
     "languageId": "quarto"
    }
   },
   "outputs": [
    {
     "data": {
      "text/plain": [
       "array('US action movie', dtype='<U15')"
      ]
     },
     "execution_count": 10,
     "metadata": {},
     "output_type": "execute_result"
    }
   ],
   "source": [
    "#testing the function: \n",
    "flag_movie_vec(movie_type = \"Super Hero\", us_gross = 100, ww_gross = 100)"
   ]
  },
  {
   "cell_type": "code",
   "execution_count": null,
   "id": "e923f933-7e03-4423-bd77-d172c9b58aa6",
   "metadata": {
    "vscode": {
     "languageId": "quarto"
    }
   },
   "outputs": [
    {
     "data": {
      "text/plain": [
       "'US action movie'"
      ]
     },
     "execution_count": 11,
     "metadata": {},
     "output_type": "execute_result"
    }
   ],
   "source": [
    "#testing the function: \n",
    "flag_movie(movie_type = \"Super Hero\", us_gross = 100, ww_gross = 100)"
   ]
  },
  {
   "cell_type": "code",
   "execution_count": null,
   "id": "affa093f-5df6-4a1a-93f6-d50604121f60",
   "metadata": {
    "vscode": {
     "languageId": "quarto"
    }
   },
   "outputs": [
    {
     "data": {
      "text/plain": [
       "'Global Action movie'"
      ]
     },
     "execution_count": 12,
     "metadata": {},
     "output_type": "execute_result"
    }
   ],
   "source": [
    "#testing the function: \n",
    "flag_movie(movie_type = \"Super Hero\", us_gross = 100, ww_gross = 100)\n",
    "flag_movie(movie_type = \"Super Hero\", us_gross = 100, ww_gross = 200)"
   ]
  },
  {
   "cell_type": "code",
   "execution_count": null,
   "id": "364db2dd-97bb-4d6b-808e-2efbef19fd43",
   "metadata": {
    "vscode": {
     "languageId": "quarto"
    }
   },
   "outputs": [],
   "source": [
    "#testing the function: \n",
    "flag_movie(movie_type = \"Super Hero\", us_gross = 100, ww_gross = 100)\n",
    "flag_movie(movie_type = \"Super Hero\", us_gross = 100, ww_gross = 200)\n",
    "flag_movie(movie_type = \"Comedy\", us_gross = 100, ww_gross = 200)"
   ]
  },
  {
   "cell_type": "code",
   "execution_count": null,
   "id": "cff48815-6201-42d0-aa8e-79286d6f8c93",
   "metadata": {
    "vscode": {
     "languageId": "quarto"
    }
   },
   "outputs": [
    {
     "ename": "ValueError",
     "evalue": "The truth value of a Series is ambiguous. Use a.empty, a.bool(), a.item(), a.any() or a.all().",
     "output_type": "error",
     "traceback": [
      "\u001b[0;31m---------------------------------------------------------------------------\u001b[0m",
      "\u001b[0;31mValueError\u001b[0m                                Traceback (most recent call last)",
      "\u001b[0;32m<ipython-input-14-6a4022822f72>\u001b[0m in \u001b[0;36m?\u001b[0;34m()\u001b[0m\n\u001b[1;32m      1\u001b[0m \u001b[0;31m#applying the vectorized ftn to the movie df:\u001b[0m\u001b[0;34m\u001b[0m\u001b[0;34m\u001b[0m\u001b[0m\n\u001b[1;32m      2\u001b[0m \u001b[0;34m\u001b[0m\u001b[0m\n\u001b[0;32m----> 3\u001b[0;31m flag_movie(movie_type = movies[\"Creative_Type\"], us_gross = movies[\"US_Gross\"],\n\u001b[0m\u001b[1;32m      4\u001b[0m \u001b[0mww_gross\u001b[0m \u001b[0;34m=\u001b[0m \u001b[0mmovies\u001b[0m\u001b[0;34m[\u001b[0m\u001b[0;34m\"Worldwide_Gross\"\u001b[0m\u001b[0;34m]\u001b[0m\u001b[0;34m)\u001b[0m\u001b[0;34m\u001b[0m\u001b[0;34m\u001b[0m\u001b[0m\n",
      "\u001b[0;32m<ipython-input-9-3561e77717a0>\u001b[0m in \u001b[0;36m?\u001b[0;34m(movie_type, us_gross, ww_gross)\u001b[0m\n\u001b[1;32m      1\u001b[0m \u001b[0;32mdef\u001b[0m \u001b[0mflag_movie\u001b[0m\u001b[0;34m(\u001b[0m\u001b[0mmovie_type\u001b[0m\u001b[0;34m,\u001b[0m \u001b[0mus_gross\u001b[0m\u001b[0;34m,\u001b[0m \u001b[0mww_gross\u001b[0m\u001b[0;34m)\u001b[0m\u001b[0;34m:\u001b[0m\u001b[0;34m\u001b[0m\u001b[0;34m\u001b[0m\u001b[0m\n\u001b[0;32m----> 2\u001b[0;31m     \u001b[0;32mif\u001b[0m \u001b[0mmovie_type\u001b[0m \u001b[0;34m==\u001b[0m \u001b[0;34m\"Super Hero\"\u001b[0m \u001b[0;32mand\u001b[0m \u001b[0mus_gross\u001b[0m \u001b[0;34m==\u001b[0m \u001b[0mww_gross\u001b[0m\u001b[0;34m:\u001b[0m\u001b[0;34m\u001b[0m\u001b[0;34m\u001b[0m\u001b[0m\n\u001b[0m\u001b[1;32m      3\u001b[0m         \u001b[0;32mreturn\u001b[0m \u001b[0;34m\"US action movie\"\u001b[0m\u001b[0;34m\u001b[0m\u001b[0;34m\u001b[0m\u001b[0m\n\u001b[1;32m      4\u001b[0m     \u001b[0;32melif\u001b[0m \u001b[0mmovie_type\u001b[0m \u001b[0;34m==\u001b[0m \u001b[0;34m\"Super Hero\"\u001b[0m \u001b[0;32mand\u001b[0m \u001b[0mus_gross\u001b[0m \u001b[0;34m<\u001b[0m \u001b[0mww_gross\u001b[0m\u001b[0;34m:\u001b[0m\u001b[0;34m\u001b[0m\u001b[0;34m\u001b[0m\u001b[0m\n\u001b[1;32m      5\u001b[0m         \u001b[0;32mreturn\u001b[0m \u001b[0;34m\"Global Action movie\"\u001b[0m\u001b[0;34m\u001b[0m\u001b[0;34m\u001b[0m\u001b[0m\n",
      "\u001b[0;32m~/Desktop/Week_4/2.graph_course_python/.venv/lib/python3.12/site-packages/pandas/core/generic.py\u001b[0m in \u001b[0;36m?\u001b[0;34m(self)\u001b[0m\n\u001b[1;32m   1575\u001b[0m     \u001b[0;34m@\u001b[0m\u001b[0mfinal\u001b[0m\u001b[0;34m\u001b[0m\u001b[0;34m\u001b[0m\u001b[0m\n\u001b[1;32m   1576\u001b[0m     \u001b[0;32mdef\u001b[0m \u001b[0m__nonzero__\u001b[0m\u001b[0;34m(\u001b[0m\u001b[0mself\u001b[0m\u001b[0;34m)\u001b[0m \u001b[0;34m->\u001b[0m \u001b[0mNoReturn\u001b[0m\u001b[0;34m:\u001b[0m\u001b[0;34m\u001b[0m\u001b[0;34m\u001b[0m\u001b[0m\n\u001b[0;32m-> 1577\u001b[0;31m         raise ValueError(\n\u001b[0m\u001b[1;32m   1578\u001b[0m             \u001b[0;34mf\"\u001b[0m\u001b[0;34mThe truth value of a \u001b[0m\u001b[0;34m{\u001b[0m\u001b[0mtype\u001b[0m\u001b[0;34m(\u001b[0m\u001b[0mself\u001b[0m\u001b[0;34m)\u001b[0m\u001b[0;34m.\u001b[0m\u001b[0m__name__\u001b[0m\u001b[0;34m}\u001b[0m\u001b[0;34m is ambiguous. \u001b[0m\u001b[0;34m\"\u001b[0m\u001b[0;34m\u001b[0m\u001b[0;34m\u001b[0m\u001b[0m\n\u001b[1;32m   1579\u001b[0m             \u001b[0;34m\"Use a.empty, a.bool(), a.item(), a.any() or a.all().\"\u001b[0m\u001b[0;34m\u001b[0m\u001b[0;34m\u001b[0m\u001b[0m\n\u001b[1;32m   1580\u001b[0m         \u001b[0;34m)\u001b[0m\u001b[0;34m\u001b[0m\u001b[0;34m\u001b[0m\u001b[0m\n",
      "\u001b[0;31mValueError\u001b[0m: The truth value of a Series is ambiguous. Use a.empty, a.bool(), a.item(), a.any() or a.all()."
     ]
    }
   ],
   "source": [
    "#applying the vectorized ftn to the movie df: \n",
    "\n",
    "flag_movie(movie_type = movies[\"Creative_Type\"], us_gross = movies[\"US_Gross\"],\n",
    "ww_gross = movies[\"Worldwide_Gross\"])"
   ]
  },
  {
   "cell_type": "code",
   "execution_count": null,
   "id": "43417c99-491e-403a-b551-8266f175432c",
   "metadata": {
    "vscode": {
     "languageId": "quarto"
    }
   },
   "outputs": [
    {
     "data": {
      "text/plain": [
       "array([None, None, None, ..., 'Global Action movie', None, None],\n",
       "      shape=(3201,), dtype=object)"
      ]
     },
     "execution_count": 15,
     "metadata": {},
     "output_type": "execute_result"
    }
   ],
   "source": [
    "#applying the vectorized ftn to the movie df: \n",
    "\n",
    "flag_movie_vec(movie_type = movies[\"Creative_Type\"], us_gross = movies[\"US_Gross\"],\n",
    "ww_gross = movies[\"Worldwide_Gross\"])"
   ]
  },
  {
   "cell_type": "code",
   "execution_count": null,
   "id": "8aa29e17-550e-453c-9a44-aa7102ae760a",
   "metadata": {
    "vscode": {
     "languageId": "quarto"
    }
   },
   "outputs": [],
   "source": [
    "#applying the vectorized ftn to the movie df: \n",
    "movies[\"Action_Flag\"] = flag_movie_vec(movie_type = movies[\"Creative_Type\"], us_gross = movies[\"US_Gross\"],\n",
    "ww_gross = movies[\"Worldwide_Gross\"])"
   ]
  },
  {
   "cell_type": "code",
   "execution_count": null,
   "id": "c986e572-8dc2-4b20-9bf3-83eafd5320c0",
   "metadata": {
    "vscode": {
     "languageId": "quarto"
    }
   },
   "outputs": [
    {
     "data": {
      "text/plain": [
       "Action_Flag\n",
       "None                   3152\n",
       "Global Action movie      42\n",
       "US action movie           7\n",
       "Name: count, dtype: int64"
      ]
     },
     "execution_count": 17,
     "metadata": {},
     "output_type": "execute_result"
    }
   ],
   "source": [
    "#applying the vectorized ftn to the movie df: \n",
    "movies[\"Action_Flag\"] = flag_movie_vec(movie_type = movies[\"Creative_Type\"], us_gross = movies[\"US_Gross\"],\n",
    "ww_gross = movies[\"Worldwide_Gross\"])\n",
    "\n",
    "movies[\"Action_Flag\"].value_counts(dropna=False)"
   ]
  }
 ],
 "metadata": {
  "kernelspec": {
   "display_name": ".venv",
   "language": "python",
   "name": "python3"
  },
  "language_info": {
   "name": "python",
   "version": "3.12.0"
  }
 },
 "nbformat": 4,
 "nbformat_minor": 2
}
